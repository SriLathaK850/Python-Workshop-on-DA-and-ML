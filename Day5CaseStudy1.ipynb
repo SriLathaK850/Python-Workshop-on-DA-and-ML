{
  "nbformat": 4,
  "nbformat_minor": 0,
  "metadata": {
    "colab": {
      "name": "Day5CaseStudy.ipynb",
      "provenance": [],
      "collapsed_sections": [],
      "authorship_tag": "ABX9TyNXKNdHCWH3C0IuvR2230Ej",
      "include_colab_link": true
    },
    "kernelspec": {
      "name": "python3",
      "display_name": "Python 3"
    }
  },
  "cells": [
    {
      "cell_type": "markdown",
      "metadata": {
        "id": "view-in-github",
        "colab_type": "text"
      },
      "source": [
        "<a href=\"https://colab.research.google.com/github/SriLathaK850/Python-Workshop-on-DA-and-ML/blob/master/Day5CaseStudy.ipynb\" target=\"_parent\"><img src=\"https://colab.research.google.com/assets/colab-badge.svg\" alt=\"Open In Colab\"/></a>"
      ]
    },
    {
      "cell_type": "markdown",
      "metadata": {
        "id": "RJeghtFx28AO",
        "colab_type": "text"
      },
      "source": [
        "Case Study 1"
      ]
    },
    {
      "cell_type": "markdown",
      "metadata": {
        "id": "UaJMKF-p3Ep3",
        "colab_type": "text"
      },
      "source": [
        "Machine learning project in python to predict loan approval\n",
        "\n",
        "We have the dataset with the loan applicants data and whether the application was approved or not.\n"
      ]
    },
    {
      "cell_type": "markdown",
      "metadata": {
        "id": "UI_b3CBa3oxf",
        "colab_type": "text"
      },
      "source": [
        "Steps involved in this machine learning project:\n",
        "\n",
        "Following are the steps involved in creating a well-defined ML project:\n",
        "• Understand and define the problem\n",
        "• Analyse and prepare the data\n",
        "• Apply the algorithms\n",
        "• Reduce the errors\n",
        "• Predict the result\n",
        "These 2 steps need to be performed in the day4 workshop itself\n",
        "These 3 steps need to be performed in the day5 workshop"
      ]
    },
    {
      "cell_type": "markdown",
      "metadata": {
        "id": "hkLcXb2I33ZS",
        "colab_type": "text"
      },
      "source": [
        "Predict if the loan application will get approved\n",
        "\n",
        "• We have the loan application information like the applicant's name, personal details, financial information and requested loan amount and related details and the outcome (whether the application was approved or rejected). Based on this we are going to train a model and predict if a loan will get approved or not."
      ]
    },
    {
      "cell_type": "code",
      "metadata": {
        "id": "-j846a9q1km3",
        "colab_type": "code",
        "colab": {}
      },
      "source": [
        "import pandas as pd\n",
        "import numpy as np\n",
        "import matplotlib.pyplot as plt\n",
        "from sklearn import model_selection\n",
        "from sklearn.metrics import accuracy_score\n",
        "from sklearn.linear_model import LogisticRegression\n",
        "from sklearn.linear_model import LinearRegression\n",
        "from sklearn.ensemble import RandomForestClassifier\n",
        "from sklearn.neighbors import KNeighborsClassifier\n",
        "from sklearn.svm import SVC\n",
        "from sklearn.tree import DecisionTreeClassifier, export_graphviz"
      ],
      "execution_count": null,
      "outputs": []
    },
    {
      "cell_type": "code",
      "metadata": {
        "id": "5mxSGxj44Fll",
        "colab_type": "code",
        "colab": {}
      },
      "source": [
        "url = \"https://raw.githubusercontent.com/SriLathaK850/Python-Workshop-on-DA-and-ML/master/Loan-applicant-details.csv\"\n",
        "names = ['Loan_ID','Gender','Married','Dependents','Education','Self_Employed','ApplicantIncome','CoapplicantIncome','LoanAmount','Loan_Amount_Term','Credit_History','Property_Area','Loan_Status']\n",
        "dataset = pd.read_csv(url, names=names)"
      ],
      "execution_count": null,
      "outputs": []
    },
    {
      "cell_type": "code",
      "metadata": {
        "id": "rR2AKXhW5Ij8",
        "colab_type": "code",
        "colab": {
          "base_uri": "https://localhost:8080/",
          "height": 442
        },
        "outputId": "6e140e24-33cd-412a-a93d-ae743247b48c"
      },
      "source": [
        "print(dataset.head(20))"
      ],
      "execution_count": null,
      "outputs": [
        {
          "output_type": "stream",
          "text": [
            "     Loan_ID  Gender Married  ... Credit_History Property_Area Loan_Status\n",
            "0   LP001003    Male     Yes  ...              1         Rural           N\n",
            "1   LP001005    Male     Yes  ...              1         Urban           Y\n",
            "2   LP001006    Male     Yes  ...              1         Urban           Y\n",
            "3   LP001008    Male      No  ...              1         Urban           Y\n",
            "4   LP001011    Male     Yes  ...              1         Urban           Y\n",
            "5   LP001013    Male     Yes  ...              1         Urban           Y\n",
            "6   LP001014    Male     Yes  ...              0     Semiurban           N\n",
            "7   LP001018    Male     Yes  ...              1         Urban           Y\n",
            "8   LP001020    Male     Yes  ...              1     Semiurban           N\n",
            "9   LP001024    Male     Yes  ...              1         Urban           Y\n",
            "10  LP001028    Male     Yes  ...              1         Urban           Y\n",
            "11  LP001029    Male      No  ...              1         Rural           N\n",
            "12  LP001030    Male     Yes  ...              1         Urban           Y\n",
            "13  LP001032    Male      No  ...              1         Urban           Y\n",
            "14  LP001036  Female      No  ...              0         Urban           N\n",
            "15  LP001038    Male     Yes  ...              1         Rural           N\n",
            "16  LP001043    Male     Yes  ...              0         Urban           N\n",
            "17  LP001046    Male     Yes  ...              1         Urban           Y\n",
            "18  LP001047    Male     Yes  ...              0     Semiurban           N\n",
            "19  LP001066    Male     Yes  ...              1     Semiurban           Y\n",
            "\n",
            "[20 rows x 13 columns]\n"
          ],
          "name": "stdout"
        }
      ]
    },
    {
      "cell_type": "code",
      "metadata": {
        "id": "EE7iTgtF5Sb_",
        "colab_type": "code",
        "colab": {}
      },
      "source": [
        "from sklearn.preprocessing import LabelEncoder\n",
        "var_mod = ['Gender','Married','Dependents','Education','Self_Employed','Property_Area']\n",
        "le = LabelEncoder()\n",
        "for i in var_mod:\n",
        "    dataset[i] = le.fit_transform(dataset[i])"
      ],
      "execution_count": null,
      "outputs": []
    },
    {
      "cell_type": "markdown",
      "metadata": {
        "id": "rF4sdkUT5Zx1",
        "colab_type": "text"
      },
      "source": [
        "Splitting the Data set\n",
        "\n",
        "As we have seen already, In Machine learning we have two kinds of datasets\n",
        "• Training dataset - used to train our model\n",
        "• Testing dataset - used to test if our model is making accurate predictions\n",
        "Our dataset has 480 records. We are going to use 80% of it for training the model and 20% of the records to evaluate our model. copy paste the below commands to prepare our data sets\n",
        "Though our dataset has lot of columns, we are only going to use the Income fields, loan amount, loan duration and credit history fields to train our model."
      ]
    },
    {
      "cell_type": "code",
      "metadata": {
        "id": "sJptgJ1w5XXx",
        "colab_type": "code",
        "colab": {
          "base_uri": "https://localhost:8080/",
          "height": 91
        },
        "outputId": "e714313f-746c-48ea-ceec-35991ff74a1a"
      },
      "source": [
        "array = dataset.values\n",
        "X = array[:,6:11]\n",
        "Y = array[:,12]\n",
        "x_train, x_test, y_train, y_test = model_selection.train_test_split(X, Y, test_size=0.2, random_state=7)\n",
        "dataset.columns"
      ],
      "execution_count": null,
      "outputs": [
        {
          "output_type": "execute_result",
          "data": {
            "text/plain": [
              "Index(['Loan_ID', 'Gender', 'Married', 'Dependents', 'Education',\n",
              "       'Self_Employed', 'ApplicantIncome', 'CoapplicantIncome', 'LoanAmount',\n",
              "       'Loan_Amount_Term', 'Credit_History', 'Property_Area', 'Loan_Status'],\n",
              "      dtype='object')"
            ]
          },
          "metadata": {
            "tags": []
          },
          "execution_count": 5
        }
      ]
    },
    {
      "cell_type": "code",
      "metadata": {
        "id": "5jQmM3V45hWP",
        "colab_type": "code",
        "colab": {
          "base_uri": "https://localhost:8080/",
          "height": 35
        },
        "outputId": "f8e4b077-5cad-4242-fc90-bff85e13c200"
      },
      "source": [
        "model = LogisticRegression()\n",
        "model.fit(x_train,y_train)\n",
        "predictions = model.predict(x_test)\n",
        "print(accuracy_score(y_test, predictions))"
      ],
      "execution_count": null,
      "outputs": [
        {
          "output_type": "stream",
          "text": [
            "0.7708333333333334\n"
          ],
          "name": "stdout"
        }
      ]
    },
    {
      "cell_type": "markdown",
      "metadata": {
        "id": "LcmEnEO45nCP",
        "colab_type": "text"
      },
      "source": [
        "Evaluating the model and training the Model with\n",
        "'ApplicantIncome', 'CoapplicantIncome',\n",
        "'LoanAmount','Loan_Amount_Term', 'Credit_History'\n",
        "ML model 1\n",
        "\n",
        "Training dataset – 90%\n",
        "\n",
        "Testing dataset – 10%\n"
      ]
    },
    {
      "cell_type": "code",
      "metadata": {
        "id": "f0rp70nd5olv",
        "colab_type": "code",
        "colab": {
          "base_uri": "https://localhost:8080/",
          "height": 91
        },
        "outputId": "e080305a-04ab-488f-d18a-43e9d44e7b60"
      },
      "source": [
        "array = dataset.values\n",
        "X = array[:,2:6]\n",
        "Y = array[:,12]\n",
        "x_train, x_test, y_train, y_test = model_selection.train_test_split(X, Y, test_size=0.10, random_state=7)\n",
        "dataset.columns\n"
      ],
      "execution_count": null,
      "outputs": [
        {
          "output_type": "execute_result",
          "data": {
            "text/plain": [
              "Index(['Loan_ID', 'Gender', 'Married', 'Dependents', 'Education',\n",
              "       'Self_Employed', 'ApplicantIncome', 'CoapplicantIncome', 'LoanAmount',\n",
              "       'Loan_Amount_Term', 'Credit_History', 'Property_Area', 'Loan_Status'],\n",
              "      dtype='object')"
            ]
          },
          "metadata": {
            "tags": []
          },
          "execution_count": 7
        }
      ]
    },
    {
      "cell_type": "code",
      "metadata": {
        "id": "yB1e8TVP5tSY",
        "colab_type": "code",
        "colab": {
          "base_uri": "https://localhost:8080/",
          "height": 35
        },
        "outputId": "d8bf30c5-c6db-4f5e-82b5-3350b0297b75"
      },
      "source": [
        "model = LogisticRegression()\n",
        "model.fit(x_train,y_train)\n",
        "predictions = model.predict(x_test)\n",
        "print(accuracy_score(y_test, predictions))"
      ],
      "execution_count": null,
      "outputs": [
        {
          "output_type": "stream",
          "text": [
            "0.6875\n"
          ],
          "name": "stdout"
        }
      ]
    },
    {
      "cell_type": "code",
      "metadata": {
        "id": "uuxoUJs35xnW",
        "colab_type": "code",
        "colab": {
          "base_uri": "https://localhost:8080/",
          "height": 35
        },
        "outputId": "532a042e-4521-414f-86ec-1fe9e48f1ad3"
      },
      "source": [
        "model = DecisionTreeClassifier()\n",
        "model.fit(x_train,y_train)\n",
        "predictions = model.predict(x_test)\n",
        "print(accuracy_score(y_test, predictions))"
      ],
      "execution_count": null,
      "outputs": [
        {
          "output_type": "stream",
          "text": [
            "0.6875\n"
          ],
          "name": "stdout"
        }
      ]
    },
    {
      "cell_type": "code",
      "metadata": {
        "id": "D1ek0NRv514V",
        "colab_type": "code",
        "colab": {
          "base_uri": "https://localhost:8080/",
          "height": 35
        },
        "outputId": "cbe74084-276b-45a2-9d18-8b7fb0c3522d"
      },
      "source": [
        "model = RandomForestClassifier(n_estimators=100)\n",
        "model.fit(x_train,y_train)\n",
        "predictions = model.predict(x_test)\n",
        "print(accuracy_score(y_test, predictions))"
      ],
      "execution_count": null,
      "outputs": [
        {
          "output_type": "stream",
          "text": [
            "0.6875\n"
          ],
          "name": "stdout"
        }
      ]
    },
    {
      "cell_type": "markdown",
      "metadata": {
        "id": "UYPaNBT_549K",
        "colab_type": "text"
      },
      "source": [
        "Training dataset – 70%\n",
        "Testing dataset – 30%"
      ]
    },
    {
      "cell_type": "code",
      "metadata": {
        "id": "ohTsC7Be59_s",
        "colab_type": "code",
        "colab": {
          "base_uri": "https://localhost:8080/",
          "height": 91
        },
        "outputId": "f637cd69-d8a0-46eb-d378-181be7da6023"
      },
      "source": [
        "array = dataset.values\n",
        "X = array[:,2:6]\n",
        "Y = array[:,12]\n",
        "x_train, x_test, y_train, y_test = model_selection.train_test_split(X, Y, test_size=0.30, random_state=7)\n",
        "dataset.columns"
      ],
      "execution_count": null,
      "outputs": [
        {
          "output_type": "execute_result",
          "data": {
            "text/plain": [
              "Index(['Loan_ID', 'Gender', 'Married', 'Dependents', 'Education',\n",
              "       'Self_Employed', 'ApplicantIncome', 'CoapplicantIncome', 'LoanAmount',\n",
              "       'Loan_Amount_Term', 'Credit_History', 'Property_Area', 'Loan_Status'],\n",
              "      dtype='object')"
            ]
          },
          "metadata": {
            "tags": []
          },
          "execution_count": 11
        }
      ]
    },
    {
      "cell_type": "code",
      "metadata": {
        "id": "uGtAg4zW6BKd",
        "colab_type": "code",
        "colab": {
          "base_uri": "https://localhost:8080/",
          "height": 35
        },
        "outputId": "7ea28821-5273-4bb3-c130-66f7e48103ef"
      },
      "source": [
        "model = LogisticRegression()\n",
        "model.fit(x_train,y_train)\n",
        "predictions = model.predict(x_test)\n",
        "print(accuracy_score(y_test, predictions))"
      ],
      "execution_count": null,
      "outputs": [
        {
          "output_type": "stream",
          "text": [
            "0.6527777777777778\n"
          ],
          "name": "stdout"
        }
      ]
    },
    {
      "cell_type": "code",
      "metadata": {
        "id": "VT2tdqY56EdJ",
        "colab_type": "code",
        "colab": {
          "base_uri": "https://localhost:8080/",
          "height": 35
        },
        "outputId": "ee959998-7da1-4210-eeab-c8a286ac4c18"
      },
      "source": [
        "model = DecisionTreeClassifier()\n",
        "model.fit(x_train,y_train)\n",
        "predictions = model.predict(x_test)\n",
        "print(accuracy_score(y_test, predictions))"
      ],
      "execution_count": null,
      "outputs": [
        {
          "output_type": "stream",
          "text": [
            "0.6388888888888888\n"
          ],
          "name": "stdout"
        }
      ]
    },
    {
      "cell_type": "code",
      "metadata": {
        "id": "m9SjPPFX6JAx",
        "colab_type": "code",
        "colab": {
          "base_uri": "https://localhost:8080/",
          "height": 35
        },
        "outputId": "eaec2431-4138-4fd2-eac9-de6f9a774b05"
      },
      "source": [
        "model = RandomForestClassifier(n_estimators=100)\n",
        "model.fit(x_train,y_train)\n",
        "predictions = model.predict(x_test)\n",
        "print(accuracy_score(y_test, predictions))"
      ],
      "execution_count": null,
      "outputs": [
        {
          "output_type": "stream",
          "text": [
            "0.6458333333333334\n"
          ],
          "name": "stdout"
        }
      ]
    },
    {
      "cell_type": "markdown",
      "metadata": {
        "id": "Ey-RvIfZ6SHf",
        "colab_type": "text"
      },
      "source": [
        "Training dataset – 60%\n",
        "Testing dataset – 40%"
      ]
    },
    {
      "cell_type": "code",
      "metadata": {
        "id": "ZJPllyns6Ptc",
        "colab_type": "code",
        "colab": {
          "base_uri": "https://localhost:8080/",
          "height": 91
        },
        "outputId": "3914ca38-57fc-4151-e90c-f497c8714340"
      },
      "source": [
        "array = dataset.values\n",
        "X = array[:,2:6]\n",
        "Y = array[:,12]\n",
        "x_train, x_test, y_train, y_test = model_selection.train_test_split(X, Y, test_size=0.40, random_state=7)\n",
        "dataset.columns"
      ],
      "execution_count": null,
      "outputs": [
        {
          "output_type": "execute_result",
          "data": {
            "text/plain": [
              "Index(['Loan_ID', 'Gender', 'Married', 'Dependents', 'Education',\n",
              "       'Self_Employed', 'ApplicantIncome', 'CoapplicantIncome', 'LoanAmount',\n",
              "       'Loan_Amount_Term', 'Credit_History', 'Property_Area', 'Loan_Status'],\n",
              "      dtype='object')"
            ]
          },
          "metadata": {
            "tags": []
          },
          "execution_count": 15
        }
      ]
    },
    {
      "cell_type": "code",
      "metadata": {
        "id": "pvyLNV1d6crR",
        "colab_type": "code",
        "colab": {
          "base_uri": "https://localhost:8080/",
          "height": 35
        },
        "outputId": "b3900236-432b-4fbe-e7f2-789e12077838"
      },
      "source": [
        "model = LogisticRegression()\n",
        "model.fit(x_train,y_train)\n",
        "predictions = model.predict(x_test)\n",
        "print(accuracy_score(y_test, predictions))"
      ],
      "execution_count": null,
      "outputs": [
        {
          "output_type": "stream",
          "text": [
            "0.6354166666666666\n"
          ],
          "name": "stdout"
        }
      ]
    },
    {
      "cell_type": "code",
      "metadata": {
        "id": "Za8IgfAp6e5j",
        "colab_type": "code",
        "colab": {
          "base_uri": "https://localhost:8080/",
          "height": 35
        },
        "outputId": "1781ae6d-f6d7-4ebd-f568-5eaeeb5e6e79"
      },
      "source": [
        "model = DecisionTreeClassifier()\n",
        "model.fit(x_train,y_train)\n",
        "predictions = model.predict(x_test)\n",
        "print(accuracy_score(y_test, predictions))"
      ],
      "execution_count": null,
      "outputs": [
        {
          "output_type": "stream",
          "text": [
            "0.6197916666666666\n"
          ],
          "name": "stdout"
        }
      ]
    },
    {
      "cell_type": "code",
      "metadata": {
        "id": "IyzsQNtc6kgC",
        "colab_type": "code",
        "colab": {
          "base_uri": "https://localhost:8080/",
          "height": 35
        },
        "outputId": "f30d83e3-e110-42c3-bf9b-3d03d725aa91"
      },
      "source": [
        "model = RandomForestClassifier(n_estimators=100)\n",
        "model.fit(x_train,y_train)\n",
        "predictions = model.predict(x_test)\n",
        "print(accuracy_score(y_test, predictions))"
      ],
      "execution_count": null,
      "outputs": [
        {
          "output_type": "stream",
          "text": [
            "0.625\n"
          ],
          "name": "stdout"
        }
      ]
    },
    {
      "cell_type": "markdown",
      "metadata": {
        "id": "cm2mC8f76t6s",
        "colab_type": "text"
      },
      "source": [
        "Evaluating the model and training the Model with 'Married',\n",
        "'Dependents', 'Education','Self_Employed', 'ApplicantIncome'\n",
        "ML model 2"
      ]
    },
    {
      "cell_type": "markdown",
      "metadata": {
        "id": "f44g9sHr61gi",
        "colab_type": "text"
      },
      "source": [
        "Training dataset – 90%\n",
        "\n",
        "Testing dataset – 10%\n"
      ]
    },
    {
      "cell_type": "code",
      "metadata": {
        "id": "_ol1P-D-6oQq",
        "colab_type": "code",
        "colab": {
          "base_uri": "https://localhost:8080/",
          "height": 91
        },
        "outputId": "87e4ac8c-d9cc-402b-9aec-64b63ed8c77d"
      },
      "source": [
        "array = dataset.values\n",
        "X = array[:,2:6]\n",
        "Y = array[:,12]\n",
        "x_train, x_test, y_train, y_test = model_selection.train_test_split(X, Y, test_size=0.10, random_state=7)\n",
        "dataset.columns"
      ],
      "execution_count": null,
      "outputs": [
        {
          "output_type": "execute_result",
          "data": {
            "text/plain": [
              "Index(['Loan_ID', 'Gender', 'Married', 'Dependents', 'Education',\n",
              "       'Self_Employed', 'ApplicantIncome', 'CoapplicantIncome', 'LoanAmount',\n",
              "       'Loan_Amount_Term', 'Credit_History', 'Property_Area', 'Loan_Status'],\n",
              "      dtype='object')"
            ]
          },
          "metadata": {
            "tags": []
          },
          "execution_count": 19
        }
      ]
    },
    {
      "cell_type": "code",
      "metadata": {
        "id": "cT6prYU069pM",
        "colab_type": "code",
        "colab": {
          "base_uri": "https://localhost:8080/",
          "height": 35
        },
        "outputId": "44a8c83e-bf83-4685-cbaa-737c96a6a501"
      },
      "source": [
        "model = LogisticRegression()\n",
        "model.fit(x_train,y_train)\n",
        "predictions = model.predict(x_test)\n",
        "print(accuracy_score(y_test, predictions))"
      ],
      "execution_count": null,
      "outputs": [
        {
          "output_type": "stream",
          "text": [
            "0.6875\n"
          ],
          "name": "stdout"
        }
      ]
    },
    {
      "cell_type": "code",
      "metadata": {
        "id": "hk5QqEsz7AYo",
        "colab_type": "code",
        "colab": {
          "base_uri": "https://localhost:8080/",
          "height": 35
        },
        "outputId": "55a82eb2-8cd1-4550-886a-696baa37c7b2"
      },
      "source": [
        "model = DecisionTreeClassifier()\n",
        "model.fit(x_train,y_train)\n",
        "predictions = model.predict(x_test)\n",
        "print(accuracy_score(y_test, predictions))"
      ],
      "execution_count": null,
      "outputs": [
        {
          "output_type": "stream",
          "text": [
            "0.6875\n"
          ],
          "name": "stdout"
        }
      ]
    },
    {
      "cell_type": "code",
      "metadata": {
        "id": "qwK44gHx7Ega",
        "colab_type": "code",
        "colab": {
          "base_uri": "https://localhost:8080/",
          "height": 35
        },
        "outputId": "9afff678-7d8f-4ca9-e8d6-b853ba32b5af"
      },
      "source": [
        "model = RandomForestClassifier(n_estimators=100)\n",
        "model.fit(x_train,y_train)\n",
        "predictions = model.predict(x_test)\n",
        "print(accuracy_score(y_test, predictions))"
      ],
      "execution_count": null,
      "outputs": [
        {
          "output_type": "stream",
          "text": [
            "0.6875\n"
          ],
          "name": "stdout"
        }
      ]
    },
    {
      "cell_type": "markdown",
      "metadata": {
        "id": "ZDYXngWg7KPQ",
        "colab_type": "text"
      },
      "source": [
        "Training dataset – 70%\n",
        "Testing dataset – 30%"
      ]
    },
    {
      "cell_type": "code",
      "metadata": {
        "id": "JlpQiyVC7IFT",
        "colab_type": "code",
        "colab": {
          "base_uri": "https://localhost:8080/",
          "height": 91
        },
        "outputId": "a9fea9ae-6b34-4beb-8b30-9a2f82c19197"
      },
      "source": [
        "array = dataset.values\n",
        "X = array[:,2:6]\n",
        "Y = array[:,12]\n",
        "x_train, x_test, y_train, y_test = model_selection.train_test_split(X, Y, test_size=0.30, random_state=7)\n",
        "dataset.columns"
      ],
      "execution_count": null,
      "outputs": [
        {
          "output_type": "execute_result",
          "data": {
            "text/plain": [
              "Index(['Loan_ID', 'Gender', 'Married', 'Dependents', 'Education',\n",
              "       'Self_Employed', 'ApplicantIncome', 'CoapplicantIncome', 'LoanAmount',\n",
              "       'Loan_Amount_Term', 'Credit_History', 'Property_Area', 'Loan_Status'],\n",
              "      dtype='object')"
            ]
          },
          "metadata": {
            "tags": []
          },
          "execution_count": 23
        }
      ]
    },
    {
      "cell_type": "code",
      "metadata": {
        "id": "_duEZmD77UVL",
        "colab_type": "code",
        "colab": {
          "base_uri": "https://localhost:8080/",
          "height": 35
        },
        "outputId": "6fc4e1ca-8483-437e-e19d-873ad32c3814"
      },
      "source": [
        "model = LogisticRegression()\n",
        "model.fit(x_train,y_train)\n",
        "predictions = model.predict(x_test)\n",
        "print(accuracy_score(y_test, predictions))"
      ],
      "execution_count": null,
      "outputs": [
        {
          "output_type": "stream",
          "text": [
            "0.6527777777777778\n"
          ],
          "name": "stdout"
        }
      ]
    },
    {
      "cell_type": "code",
      "metadata": {
        "id": "-KvkMYiZ7Z4k",
        "colab_type": "code",
        "colab": {
          "base_uri": "https://localhost:8080/",
          "height": 35
        },
        "outputId": "f3840d64-26d6-475d-c970-0a186cca8411"
      },
      "source": [
        "model = DecisionTreeClassifier()\n",
        "model.fit(x_train,y_train)\n",
        "predictions = model.predict(x_test)\n",
        "print(accuracy_score(y_test, predictions))"
      ],
      "execution_count": null,
      "outputs": [
        {
          "output_type": "stream",
          "text": [
            "0.6388888888888888\n"
          ],
          "name": "stdout"
        }
      ]
    },
    {
      "cell_type": "code",
      "metadata": {
        "id": "90SCHzZT7gXV",
        "colab_type": "code",
        "colab": {
          "base_uri": "https://localhost:8080/",
          "height": 35
        },
        "outputId": "5743edfc-cbff-4d23-ed4c-69d42bf6806f"
      },
      "source": [
        "model = RandomForestClassifier(n_estimators=100)\n",
        "model.fit(x_train,y_train)\n",
        "predictions = model.predict(x_test)\n",
        "print(accuracy_score(y_test, predictions))"
      ],
      "execution_count": null,
      "outputs": [
        {
          "output_type": "stream",
          "text": [
            "0.6388888888888888\n"
          ],
          "name": "stdout"
        }
      ]
    },
    {
      "cell_type": "markdown",
      "metadata": {
        "id": "akPsSWjz7JbI",
        "colab_type": "text"
      },
      "source": [
        "Training dataset – 60%\n",
        "Testing dataset – 40%"
      ]
    },
    {
      "cell_type": "code",
      "metadata": {
        "id": "pAzXpuJw7l06",
        "colab_type": "code",
        "colab": {
          "base_uri": "https://localhost:8080/",
          "height": 91
        },
        "outputId": "e0a8c2c7-c8cb-4e20-b32c-43a0a5358aa1"
      },
      "source": [
        "array = dataset.values\n",
        "X = array[:,2:6]\n",
        "Y = array[:,12]\n",
        "x_train, x_test, y_train, y_test = model_selection.train_test_split(X, Y, test_size=0.40, random_state=7)\n",
        "dataset.columns"
      ],
      "execution_count": null,
      "outputs": [
        {
          "output_type": "execute_result",
          "data": {
            "text/plain": [
              "Index(['Loan_ID', 'Gender', 'Married', 'Dependents', 'Education',\n",
              "       'Self_Employed', 'ApplicantIncome', 'CoapplicantIncome', 'LoanAmount',\n",
              "       'Loan_Amount_Term', 'Credit_History', 'Property_Area', 'Loan_Status'],\n",
              "      dtype='object')"
            ]
          },
          "metadata": {
            "tags": []
          },
          "execution_count": 27
        }
      ]
    },
    {
      "cell_type": "code",
      "metadata": {
        "id": "h6fyFdjM7pRb",
        "colab_type": "code",
        "colab": {
          "base_uri": "https://localhost:8080/",
          "height": 35
        },
        "outputId": "d6983915-685d-4ab5-fc42-a53d9b32a0ba"
      },
      "source": [
        "model = LogisticRegression()\n",
        "model.fit(x_train,y_train)\n",
        "predictions = model.predict(x_test)\n",
        "print(accuracy_score(y_test, predictions))"
      ],
      "execution_count": null,
      "outputs": [
        {
          "output_type": "stream",
          "text": [
            "0.6354166666666666\n"
          ],
          "name": "stdout"
        }
      ]
    },
    {
      "cell_type": "code",
      "metadata": {
        "id": "8D3ILUr57soC",
        "colab_type": "code",
        "colab": {
          "base_uri": "https://localhost:8080/",
          "height": 35
        },
        "outputId": "a9abca2c-69d0-4ed6-edc7-0c27c3886111"
      },
      "source": [
        "model = DecisionTreeClassifier()\n",
        "model.fit(x_train,y_train)\n",
        "predictions = model.predict(x_test)\n",
        "print(accuracy_score(y_test, predictions))"
      ],
      "execution_count": null,
      "outputs": [
        {
          "output_type": "stream",
          "text": [
            "0.6197916666666666\n"
          ],
          "name": "stdout"
        }
      ]
    },
    {
      "cell_type": "code",
      "metadata": {
        "id": "LY_cRFGU7vub",
        "colab_type": "code",
        "colab": {
          "base_uri": "https://localhost:8080/",
          "height": 35
        },
        "outputId": "83bfaf29-9f94-400c-afd6-c39c90a3f54f"
      },
      "source": [
        "model = RandomForestClassifier(n_estimators=100)\n",
        "model.fit(x_train,y_train)\n",
        "predictions = model.predict(x_test)\n",
        "print(accuracy_score(y_test, predictions))"
      ],
      "execution_count": null,
      "outputs": [
        {
          "output_type": "stream",
          "text": [
            "0.6197916666666666\n"
          ],
          "name": "stdout"
        }
      ]
    },
    {
      "cell_type": "markdown",
      "metadata": {
        "id": "Fwze7j917zKX",
        "colab_type": "text"
      },
      "source": [
        "**Evaluating the model and training the Model with 'Self_Employed',\n",
        "'ApplicantIncome', 'CoapplicantIncome',\n",
        "'LoanAmount','Loan_Amount_Term', 'Credit_History',\n",
        "'Property_Area'\n",
        "ML model 3**"
      ]
    },
    {
      "cell_type": "markdown",
      "metadata": {
        "id": "ab6-QaHx75kw",
        "colab_type": "text"
      },
      "source": [
        "Training dataset – 90%\n",
        "\n",
        "Testing dataset – 10%\n"
      ]
    },
    {
      "cell_type": "code",
      "metadata": {
        "id": "B2QvmIjH78Ua",
        "colab_type": "code",
        "colab": {
          "base_uri": "https://localhost:8080/",
          "height": 91
        },
        "outputId": "dfe1c9a2-03f6-401b-b2c2-228b956cf619"
      },
      "source": [
        "array = dataset.values\n",
        "X = array[:,5:12]\n",
        "Y = array[:,12]\n",
        "x_train, x_test, y_train, y_test = model_selection.train_test_split(X, Y, test_size=0.10, random_state=7)\n",
        "dataset.columns"
      ],
      "execution_count": null,
      "outputs": [
        {
          "output_type": "execute_result",
          "data": {
            "text/plain": [
              "Index(['Loan_ID', 'Gender', 'Married', 'Dependents', 'Education',\n",
              "       'Self_Employed', 'ApplicantIncome', 'CoapplicantIncome', 'LoanAmount',\n",
              "       'Loan_Amount_Term', 'Credit_History', 'Property_Area', 'Loan_Status'],\n",
              "      dtype='object')"
            ]
          },
          "metadata": {
            "tags": []
          },
          "execution_count": 31
        }
      ]
    },
    {
      "cell_type": "code",
      "metadata": {
        "id": "z--O4NUf8AC3",
        "colab_type": "code",
        "colab": {
          "base_uri": "https://localhost:8080/",
          "height": 35
        },
        "outputId": "a448477e-81d6-498e-bbae-5bc3826d5550"
      },
      "source": [
        "model = LogisticRegression()\n",
        "model.fit(x_train,y_train)\n",
        "predictions = model.predict(x_test)\n",
        "print(accuracy_score(y_test, predictions))"
      ],
      "execution_count": null,
      "outputs": [
        {
          "output_type": "stream",
          "text": [
            "0.7291666666666666\n"
          ],
          "name": "stdout"
        }
      ]
    },
    {
      "cell_type": "code",
      "metadata": {
        "id": "XJ4NDroY8DVP",
        "colab_type": "code",
        "colab": {
          "base_uri": "https://localhost:8080/",
          "height": 35
        },
        "outputId": "aaaae76b-75c9-4ff7-f113-26024eaaa0f9"
      },
      "source": [
        "model = DecisionTreeClassifier()\n",
        "model.fit(x_train,y_train)\n",
        "predictions = model.predict(x_test)\n",
        "print(accuracy_score(y_test, predictions))"
      ],
      "execution_count": null,
      "outputs": [
        {
          "output_type": "stream",
          "text": [
            "0.6666666666666666\n"
          ],
          "name": "stdout"
        }
      ]
    },
    {
      "cell_type": "code",
      "metadata": {
        "id": "NK8nx8KI8HQ1",
        "colab_type": "code",
        "colab": {
          "base_uri": "https://localhost:8080/",
          "height": 35
        },
        "outputId": "c7e32dd7-4f91-49c0-f9ea-277bb82e8311"
      },
      "source": [
        "model = RandomForestClassifier(n_estimators=100)\n",
        "model.fit(x_train,y_train)\n",
        "predictions = model.predict(x_test)\n",
        "print(accuracy_score(y_test, predictions))"
      ],
      "execution_count": null,
      "outputs": [
        {
          "output_type": "stream",
          "text": [
            "0.6666666666666666\n"
          ],
          "name": "stdout"
        }
      ]
    },
    {
      "cell_type": "markdown",
      "metadata": {
        "id": "GDC0uh2I8Ppa",
        "colab_type": "text"
      },
      "source": [
        "Training dataset – 70%\n",
        "Testing dataset – 30%"
      ]
    },
    {
      "cell_type": "code",
      "metadata": {
        "id": "ZGG-Y84r8K8n",
        "colab_type": "code",
        "colab": {
          "base_uri": "https://localhost:8080/",
          "height": 91
        },
        "outputId": "f99b8aeb-9621-460a-deff-bff095c09351"
      },
      "source": [
        "array = dataset.values\n",
        "X = array[:,5:12]\n",
        "Y = array[:,12]\n",
        "x_train, x_test, y_train, y_test = model_selection.train_test_split(X, Y, test_size=0.30, random_state=7)\n",
        "dataset.columns"
      ],
      "execution_count": null,
      "outputs": [
        {
          "output_type": "execute_result",
          "data": {
            "text/plain": [
              "Index(['Loan_ID', 'Gender', 'Married', 'Dependents', 'Education',\n",
              "       'Self_Employed', 'ApplicantIncome', 'CoapplicantIncome', 'LoanAmount',\n",
              "       'Loan_Amount_Term', 'Credit_History', 'Property_Area', 'Loan_Status'],\n",
              "      dtype='object')"
            ]
          },
          "metadata": {
            "tags": []
          },
          "execution_count": 35
        }
      ]
    },
    {
      "cell_type": "code",
      "metadata": {
        "id": "JFpR8fgr8U9B",
        "colab_type": "code",
        "colab": {
          "base_uri": "https://localhost:8080/",
          "height": 183
        },
        "outputId": "5239a6fb-9742-435f-84da-bd4334beb4d7"
      },
      "source": [
        "model = LogisticRegression()\n",
        "model.fit(x_train,y_train)\n",
        "predictions = model.predict(x_test)\n",
        "print(accuracy_score(y_test, predictions))"
      ],
      "execution_count": null,
      "outputs": [
        {
          "output_type": "stream",
          "text": [
            "0.7916666666666666\n"
          ],
          "name": "stdout"
        },
        {
          "output_type": "stream",
          "text": [
            "/usr/local/lib/python3.6/dist-packages/sklearn/linear_model/_logistic.py:940: ConvergenceWarning: lbfgs failed to converge (status=1):\n",
            "STOP: TOTAL NO. of ITERATIONS REACHED LIMIT.\n",
            "\n",
            "Increase the number of iterations (max_iter) or scale the data as shown in:\n",
            "    https://scikit-learn.org/stable/modules/preprocessing.html\n",
            "Please also refer to the documentation for alternative solver options:\n",
            "    https://scikit-learn.org/stable/modules/linear_model.html#logistic-regression\n",
            "  extra_warning_msg=_LOGISTIC_SOLVER_CONVERGENCE_MSG)\n"
          ],
          "name": "stderr"
        }
      ]
    },
    {
      "cell_type": "code",
      "metadata": {
        "id": "Mjq4Pw6k8gGD",
        "colab_type": "code",
        "colab": {
          "base_uri": "https://localhost:8080/",
          "height": 35
        },
        "outputId": "8cf9c034-a1a9-425d-d173-21484401d9d9"
      },
      "source": [
        "model = DecisionTreeClassifier()\n",
        "model.fit(x_train,y_train)\n",
        "predictions = model.predict(x_test)\n",
        "print(accuracy_score(y_test, predictions))"
      ],
      "execution_count": null,
      "outputs": [
        {
          "output_type": "stream",
          "text": [
            "0.7152777777777778\n"
          ],
          "name": "stdout"
        }
      ]
    },
    {
      "cell_type": "code",
      "metadata": {
        "id": "NF29bSGC8n5W",
        "colab_type": "code",
        "colab": {
          "base_uri": "https://localhost:8080/",
          "height": 35
        },
        "outputId": "bd937d61-dca6-4592-9630-d148d8c10038"
      },
      "source": [
        "model = RandomForestClassifier(n_estimators=100)\n",
        "model.fit(x_train,y_train)\n",
        "predictions = model.predict(x_test)\n",
        "print(accuracy_score(y_test, predictions))"
      ],
      "execution_count": null,
      "outputs": [
        {
          "output_type": "stream",
          "text": [
            "0.7569444444444444\n"
          ],
          "name": "stdout"
        }
      ]
    },
    {
      "cell_type": "markdown",
      "metadata": {
        "id": "416cZmj98uww",
        "colab_type": "text"
      },
      "source": [
        "Training dataset – 60%\n",
        "Testing dataset – 40%"
      ]
    },
    {
      "cell_type": "code",
      "metadata": {
        "id": "jmUdnpqv8rRZ",
        "colab_type": "code",
        "colab": {
          "base_uri": "https://localhost:8080/",
          "height": 91
        },
        "outputId": "91088eda-e4ed-41f4-fba1-4fdd93799a85"
      },
      "source": [
        "array = dataset.values\n",
        "X = array[:,5:12]\n",
        "Y = array[:,12]\n",
        "x_train, x_test, y_train, y_test = model_selection.train_test_split(X, Y, test_size=0.40, random_state=7)\n",
        "dataset.columns"
      ],
      "execution_count": null,
      "outputs": [
        {
          "output_type": "execute_result",
          "data": {
            "text/plain": [
              "Index(['Loan_ID', 'Gender', 'Married', 'Dependents', 'Education',\n",
              "       'Self_Employed', 'ApplicantIncome', 'CoapplicantIncome', 'LoanAmount',\n",
              "       'Loan_Amount_Term', 'Credit_History', 'Property_Area', 'Loan_Status'],\n",
              "      dtype='object')"
            ]
          },
          "metadata": {
            "tags": []
          },
          "execution_count": 39
        }
      ]
    },
    {
      "cell_type": "code",
      "metadata": {
        "id": "yuc31b9F831J",
        "colab_type": "code",
        "colab": {
          "base_uri": "https://localhost:8080/",
          "height": 35
        },
        "outputId": "298d2cf2-2073-43e1-82c7-d697e6bc55a8"
      },
      "source": [
        "model = LogisticRegression()\n",
        "model.fit(x_train,y_train)\n",
        "predictions = model.predict(x_test)\n",
        "print(accuracy_score(y_test, predictions))"
      ],
      "execution_count": null,
      "outputs": [
        {
          "output_type": "stream",
          "text": [
            "0.8020833333333334\n"
          ],
          "name": "stdout"
        }
      ]
    },
    {
      "cell_type": "code",
      "metadata": {
        "id": "Hdhodpqm87Ge",
        "colab_type": "code",
        "colab": {
          "base_uri": "https://localhost:8080/",
          "height": 35
        },
        "outputId": "0b44b239-92a0-4fdc-935f-1a40393cc00a"
      },
      "source": [
        "model = DecisionTreeClassifier()\n",
        "model.fit(x_train,y_train)\n",
        "predictions = model.predict(x_test)\n",
        "print(accuracy_score(y_test, predictions))"
      ],
      "execution_count": null,
      "outputs": [
        {
          "output_type": "stream",
          "text": [
            "0.7135416666666666\n"
          ],
          "name": "stdout"
        }
      ]
    },
    {
      "cell_type": "code",
      "metadata": {
        "id": "aOKsMkrG9AM_",
        "colab_type": "code",
        "colab": {
          "base_uri": "https://localhost:8080/",
          "height": 35
        },
        "outputId": "40f1b45a-e5dc-40b2-d62b-c04181a53dee"
      },
      "source": [
        "model = RandomForestClassifier(n_estimators=100)\n",
        "model.fit(x_train,y_train)\n",
        "predictions = model.predict(x_test)\n",
        "print(accuracy_score(y_test, predictions))"
      ],
      "execution_count": null,
      "outputs": [
        {
          "output_type": "stream",
          "text": [
            "0.7760416666666666\n"
          ],
          "name": "stdout"
        }
      ]
    }
  ]
}
